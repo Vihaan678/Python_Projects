{
 "cells": [
  {
   "cell_type": "code",
   "execution_count": 1,
   "id": "050a4fa1",
   "metadata": {},
   "outputs": [
    {
     "ename": "ModuleNotFoundError",
     "evalue": "No module named 'matplotlib'",
     "output_type": "error",
     "traceback": [
      "\u001b[31m---------------------------------------------------------------------------\u001b[39m",
      "\u001b[31mModuleNotFoundError\u001b[39m                       Traceback (most recent call last)",
      "\u001b[36mCell\u001b[39m\u001b[36m \u001b[39m\u001b[32mIn[1]\u001b[39m\u001b[32m, line 1\u001b[39m\n\u001b[32m----> \u001b[39m\u001b[32m1\u001b[39m \u001b[38;5;28;01mimport\u001b[39;00m\u001b[38;5;250m \u001b[39m\u001b[34;01mmatplotlib\u001b[39;00m\u001b[34;01m.\u001b[39;00m\u001b[34;01mpyplot\u001b[39;00m\u001b[38;5;250m \u001b[39m\u001b[38;5;28;01mas\u001b[39;00m\u001b[38;5;250m \u001b[39m\u001b[34;01mplt\u001b[39;00m\n",
      "\u001b[31mModuleNotFoundError\u001b[39m: No module named 'matplotlib'"
     ]
    }
   ],
   "source": [
    "import matplotlib.pyplot as plt"
   ]
  },
  {
   "cell_type": "code",
   "execution_count": null,
   "id": "d1e6bdbc",
   "metadata": {},
   "outputs": [],
   "source": [
    "\n",
    "x = [0, 5, 10, 15, 20, 25, 30]\n",
    "y1 = [10, 15, 20, 20, 30, 15, 0] \n",
    "y2 = [10, 12, 15, 12, 20, 16, 0] "
   ]
  },
  {
   "cell_type": "code",
   "execution_count": null,
   "id": "4950c52f",
   "metadata": {},
   "outputs": [],
   "source": [
    "plt.plot(x, y1, linestyle='dashed', marker='D')"
   ]
  },
  {
   "cell_type": "code",
   "execution_count": null,
   "id": "7f340c5a",
   "metadata": {},
   "outputs": [],
   "source": [
    "plt.plot(x, y2, linestyle='dashed', marker='D')"
   ]
  },
  {
   "cell_type": "code",
   "execution_count": null,
   "id": "b5282f84",
   "metadata": {},
   "outputs": [],
   "source": [
    "plt.title('Velocity-Time Graph')"
   ]
  },
  {
   "cell_type": "code",
   "execution_count": null,
   "id": "7dc97578",
   "metadata": {},
   "outputs": [],
   "source": [
    "plt.ylabel('Velocity m/s')"
   ]
  },
  {
   "cell_type": "code",
   "execution_count": null,
   "id": "618fa22a",
   "metadata": {},
   "outputs": [],
   "source": [
    "plt.xlabel('Time(s)')"
   ]
  },
  {
   "cell_type": "code",
   "execution_count": null,
   "id": "8aa44c34",
   "metadata": {},
   "outputs": [],
   "source": [
    "plt.ylim(5, 25)"
   ]
  },
  {
   "cell_type": "code",
   "execution_count": null,
   "id": "9189e502",
   "metadata": {},
   "outputs": [],
   "source": [
    "plt.xlim(5, 25)"
   ]
  }
 ],
 "metadata": {
  "kernelspec": {
   "display_name": "Python 3",
   "language": "python",
   "name": "python3"
  },
  "language_info": {
   "codemirror_mode": {
    "name": "ipython",
    "version": 3
   },
   "file_extension": ".py",
   "mimetype": "text/x-python",
   "name": "python",
   "nbconvert_exporter": "python",
   "pygments_lexer": "ipython3",
   "version": "3.13.5"
  }
 },
 "nbformat": 4,
 "nbformat_minor": 5
}
